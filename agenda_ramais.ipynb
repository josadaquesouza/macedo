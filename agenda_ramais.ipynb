{
  "nbformat": 4,
  "nbformat_minor": 0,
  "metadata": {
    "colab": {
      "provenance": [],
      "mount_file_id": "1cNOO3fb9XSUzRfvYmMKH3PqVh9BZbe12",
      "authorship_tag": "ABX9TyM9BQeOTMpfCX+L4lGde46A",
      "include_colab_link": true
    },
    "kernelspec": {
      "name": "python3",
      "display_name": "Python 3"
    },
    "language_info": {
      "name": "python"
    }
  },
  "cells": [
    {
      "cell_type": "markdown",
      "metadata": {
        "id": "view-in-github",
        "colab_type": "text"
      },
      "source": [
        "<a href=\"https://colab.research.google.com/github/josadaquesouza/macedo/blob/master/agenda_ramais.ipynb\" target=\"_parent\"><img src=\"https://colab.research.google.com/assets/colab-badge.svg\" alt=\"Open In Colab\"/></a>"
      ]
    },
    {
      "cell_type": "code",
      "execution_count": 1,
      "metadata": {
        "id": "Y2GM_NKB5hzB"
      },
      "outputs": [],
      "source": [
        "agenda = {}\n"
      ]
    },
    {
      "cell_type": "code",
      "source": [
        "def adicionar_contato(nome, telefone, email):\n",
        "  agenda[nome] = [telefone, email]\n"
      ],
      "metadata": {
        "id": "xVfiNW_VBUWf"
      },
      "execution_count": 2,
      "outputs": []
    },
    {
      "cell_type": "code",
      "source": [
        "def buscar_contato(nome):\n",
        "  if nome in agenda:\n",
        "    return agenda[nome]\n",
        "  else:\n",
        "    return \"Contato não encontrado\"\n"
      ],
      "metadata": {
        "id": "Tk1RDl6OBZSV"
      },
      "execution_count": 3,
      "outputs": []
    },
    {
      "cell_type": "code",
      "source": [
        "adicionar_contato(\"João\", \"9999-9999\", \"joao@email.com\")\n",
        "print(buscar_contato(\"João\"))\n",
        "\n"
      ],
      "metadata": {
        "colab": {
          "base_uri": "https://localhost:8080/"
        },
        "id": "KCFm4-WSBcU3",
        "outputId": "1833b2a4-890b-405a-c0cb-968f5f166a58"
      },
      "execution_count": 4,
      "outputs": [
        {
          "output_type": "stream",
          "name": "stdout",
          "text": [
            "['9999-9999', 'joao@email.com']\n"
          ]
        }
      ]
    },
    {
      "cell_type": "code",
      "source": [],
      "metadata": {
        "id": "2mC-R-5bBdfm"
      },
      "execution_count": null,
      "outputs": []
    },
    {
      "cell_type": "code",
      "source": [
        "!pip install flask\n"
      ],
      "metadata": {
        "colab": {
          "base_uri": "https://localhost:8080/"
        },
        "id": "wcJ6RXXeBeb9",
        "outputId": "a7bd97e2-3fb7-48b5-b8f3-773e5afce949"
      },
      "execution_count": 5,
      "outputs": [
        {
          "output_type": "stream",
          "name": "stdout",
          "text": [
            "Looking in indexes: https://pypi.org/simple, https://us-python.pkg.dev/colab-wheels/public/simple/\n",
            "Requirement already satisfied: flask in /usr/local/lib/python3.9/dist-packages (2.2.3)\n",
            "Requirement already satisfied: Jinja2>=3.0 in /usr/local/lib/python3.9/dist-packages (from flask) (3.1.2)\n",
            "Requirement already satisfied: itsdangerous>=2.0 in /usr/local/lib/python3.9/dist-packages (from flask) (2.1.2)\n",
            "Requirement already satisfied: click>=8.0 in /usr/local/lib/python3.9/dist-packages (from flask) (8.1.3)\n",
            "Requirement already satisfied: Werkzeug>=2.2.2 in /usr/local/lib/python3.9/dist-packages (from flask) (2.2.3)\n",
            "Requirement already satisfied: importlib-metadata>=3.6.0 in /usr/local/lib/python3.9/dist-packages (from flask) (6.1.0)\n",
            "Requirement already satisfied: zipp>=0.5 in /usr/local/lib/python3.9/dist-packages (from importlib-metadata>=3.6.0->flask) (3.15.0)\n",
            "Requirement already satisfied: MarkupSafe>=2.0 in /usr/local/lib/python3.9/dist-packages (from Jinja2>=3.0->flask) (2.1.2)\n"
          ]
        }
      ]
    },
    {
      "cell_type": "code",
      "source": [
        "from flask import Flask\n",
        "\n",
        "app = Flask(__name__)\n"
      ],
      "metadata": {
        "id": "wfX1JpVuB4Ow"
      },
      "execution_count": 6,
      "outputs": []
    },
    {
      "cell_type": "code",
      "source": [
        "@app.route('/contatos')\n",
        "def exibir_contatos():\n",
        "    return agenda\n"
      ],
      "metadata": {
        "id": "3I5wUh0NB8Nm"
      },
      "execution_count": 7,
      "outputs": []
    },
    {
      "cell_type": "code",
      "source": [
        "@app.route('/adicionar-contato/<string:nome>/<string:telefone>/<string:email>')\n",
        "def adicionar_contato(nome, telefone, email):\n",
        "    agenda[nome] = [telefone, email]\n",
        "    return \"Contato adicionado com sucesso\"\n"
      ],
      "metadata": {
        "id": "A4QrVxmPCBne"
      },
      "execution_count": 8,
      "outputs": []
    },
    {
      "cell_type": "code",
      "source": [
        "@app.route('/buscar-contato/<string:nome>')\n",
        "def buscar_contato(nome):\n",
        "    if nome in agenda:\n",
        "        return agenda[nome]\n",
        "    else:\n",
        "        return \"Contato não encontrado\"\n"
      ],
      "metadata": {
        "id": "T6wU4N0-CEml"
      },
      "execution_count": 9,
      "outputs": []
    },
    {
      "cell_type": "code",
      "source": [
        "@app.route('/editar-contato/<string:nome>', methods=['PUT'])\n",
        "def editar_contato(nome):\n",
        "    if nome in agenda:\n",
        "        telefone = request.form['telefone']\n",
        "        email = request.form['email']\n",
        "        agenda[nome] = [telefone, email]\n",
        "        return \"Contato atualizado com sucesso\"\n",
        "    else:\n",
        "        return \"Contato não encontrado\"\n"
      ],
      "metadata": {
        "id": "ZcuqbQZrCHwm"
      },
      "execution_count": 10,
      "outputs": []
    },
    {
      "cell_type": "code",
      "source": [
        "@app.route('/excluir-contato/<string:nome>', methods=['DELETE'])\n",
        "def excluir_contato(nome):\n",
        "    if nome in agenda:\n",
        "        del agenda[nome]\n",
        "        return \"Contato excluído com sucesso\"\n",
        "    else:\n",
        "        return \"Contato não encontrado\"\n"
      ],
      "metadata": {
        "id": "SBmtevyTCJOV"
      },
      "execution_count": 11,
      "outputs": []
    },
    {
      "cell_type": "code",
      "source": [
        "if __name__ == '__main__':\n",
        "    agenda = {}\n",
        "    app.run()\n"
      ],
      "metadata": {
        "colab": {
          "base_uri": "https://localhost:8080/"
        },
        "id": "OvBSEIUDCMO1",
        "outputId": "19f4a5ea-dcfd-4a16-9f24-ebc374e24932"
      },
      "execution_count": 12,
      "outputs": [
        {
          "output_type": "stream",
          "name": "stdout",
          "text": [
            " * Serving Flask app '__main__'\n",
            " * Debug mode: off\n"
          ]
        },
        {
          "output_type": "stream",
          "name": "stderr",
          "text": [
            "INFO:werkzeug:\u001b[31m\u001b[1mWARNING: This is a development server. Do not use it in a production deployment. Use a production WSGI server instead.\u001b[0m\n",
            " * Running on http://127.0.0.1:5000\n",
            "INFO:werkzeug:\u001b[33mPress CTRL+C to quit\u001b[0m\n"
          ]
        }
      ]
    },
    {
      "cell_type": "code",
      "source": [
        "app.debug = False\n"
      ],
      "metadata": {
        "id": "AB9ncbbZCoAV"
      },
      "execution_count": 13,
      "outputs": []
    },
    {
      "cell_type": "code",
      "source": [
        "if __name__ == '__main__':\n",
        "    agenda = {}\n",
        "    app.run()"
      ],
      "metadata": {
        "colab": {
          "base_uri": "https://localhost:8080/"
        },
        "id": "GSWDJpmHCrg9",
        "outputId": "a29c30e4-ee87-4728-9449-80948402886f"
      },
      "execution_count": null,
      "outputs": [
        {
          "output_type": "stream",
          "name": "stdout",
          "text": [
            " * Serving Flask app '__main__'\n",
            " * Debug mode: off\n"
          ]
        },
        {
          "output_type": "stream",
          "name": "stderr",
          "text": [
            "INFO:werkzeug:\u001b[31m\u001b[1mWARNING: This is a development server. Do not use it in a production deployment. Use a production WSGI server instead.\u001b[0m\n",
            " * Running on http://127.0.0.1:5000\n",
            "INFO:werkzeug:\u001b[33mPress CTRL+C to quit\u001b[0m\n"
          ]
        }
      ]
    }
  ]
}